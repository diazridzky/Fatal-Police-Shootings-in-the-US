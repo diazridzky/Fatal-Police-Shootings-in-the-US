{
 "cells": [
  {
   "cell_type": "markdown",
   "id": "73ebdf81",
   "metadata": {},
   "source": [
    "# Importing libraries and Inspection"
   ]
  },
  {
   "cell_type": "code",
   "execution_count": 1,
   "id": "02714d7e",
   "metadata": {},
   "outputs": [],
   "source": [
    "import pandas as pd\n",
    "import seaborn as sns\n",
    "import matplotlib.pyplot as plt"
   ]
  },
  {
   "cell_type": "code",
   "execution_count": 2,
   "id": "76e9d174",
   "metadata": {},
   "outputs": [],
   "source": [
    "# Importing the dataset\n",
    "df = pd.read_csv('fatal-police-shootings-data.csv')"
   ]
  },
  {
   "cell_type": "code",
   "execution_count": 3,
   "id": "af02f0d9",
   "metadata": {},
   "outputs": [
    {
     "data": {
      "text/html": [
       "<div>\n",
       "<style scoped>\n",
       "    .dataframe tbody tr th:only-of-type {\n",
       "        vertical-align: middle;\n",
       "    }\n",
       "\n",
       "    .dataframe tbody tr th {\n",
       "        vertical-align: top;\n",
       "    }\n",
       "\n",
       "    .dataframe thead th {\n",
       "        text-align: right;\n",
       "    }\n",
       "</style>\n",
       "<table border=\"1\" class=\"dataframe\">\n",
       "  <thead>\n",
       "    <tr style=\"text-align: right;\">\n",
       "      <th></th>\n",
       "      <th>id</th>\n",
       "      <th>name</th>\n",
       "      <th>date</th>\n",
       "      <th>manner_of_death</th>\n",
       "      <th>armed</th>\n",
       "      <th>age</th>\n",
       "      <th>gender</th>\n",
       "      <th>race</th>\n",
       "      <th>city</th>\n",
       "      <th>state</th>\n",
       "      <th>signs_of_mental_illness</th>\n",
       "      <th>threat_level</th>\n",
       "      <th>flee</th>\n",
       "      <th>body_camera</th>\n",
       "    </tr>\n",
       "  </thead>\n",
       "  <tbody>\n",
       "    <tr>\n",
       "      <th>0</th>\n",
       "      <td>3</td>\n",
       "      <td>Tim Elliot</td>\n",
       "      <td>2015-01-02</td>\n",
       "      <td>shot</td>\n",
       "      <td>gun</td>\n",
       "      <td>53.0</td>\n",
       "      <td>M</td>\n",
       "      <td>A</td>\n",
       "      <td>Shelton</td>\n",
       "      <td>WA</td>\n",
       "      <td>True</td>\n",
       "      <td>attack</td>\n",
       "      <td>Not fleeing</td>\n",
       "      <td>False</td>\n",
       "    </tr>\n",
       "    <tr>\n",
       "      <th>1</th>\n",
       "      <td>4</td>\n",
       "      <td>Lewis Lee Lembke</td>\n",
       "      <td>2015-01-02</td>\n",
       "      <td>shot</td>\n",
       "      <td>gun</td>\n",
       "      <td>47.0</td>\n",
       "      <td>M</td>\n",
       "      <td>W</td>\n",
       "      <td>Aloha</td>\n",
       "      <td>OR</td>\n",
       "      <td>False</td>\n",
       "      <td>attack</td>\n",
       "      <td>Not fleeing</td>\n",
       "      <td>False</td>\n",
       "    </tr>\n",
       "    <tr>\n",
       "      <th>2</th>\n",
       "      <td>5</td>\n",
       "      <td>John Paul Quintero</td>\n",
       "      <td>2015-01-03</td>\n",
       "      <td>shot and Tasered</td>\n",
       "      <td>unarmed</td>\n",
       "      <td>23.0</td>\n",
       "      <td>M</td>\n",
       "      <td>H</td>\n",
       "      <td>Wichita</td>\n",
       "      <td>KS</td>\n",
       "      <td>False</td>\n",
       "      <td>other</td>\n",
       "      <td>Not fleeing</td>\n",
       "      <td>False</td>\n",
       "    </tr>\n",
       "    <tr>\n",
       "      <th>3</th>\n",
       "      <td>8</td>\n",
       "      <td>Matthew Hoffman</td>\n",
       "      <td>2015-01-04</td>\n",
       "      <td>shot</td>\n",
       "      <td>toy weapon</td>\n",
       "      <td>32.0</td>\n",
       "      <td>M</td>\n",
       "      <td>W</td>\n",
       "      <td>San Francisco</td>\n",
       "      <td>CA</td>\n",
       "      <td>True</td>\n",
       "      <td>attack</td>\n",
       "      <td>Not fleeing</td>\n",
       "      <td>False</td>\n",
       "    </tr>\n",
       "    <tr>\n",
       "      <th>4</th>\n",
       "      <td>9</td>\n",
       "      <td>Michael Rodriguez</td>\n",
       "      <td>2015-01-04</td>\n",
       "      <td>shot</td>\n",
       "      <td>nail gun</td>\n",
       "      <td>39.0</td>\n",
       "      <td>M</td>\n",
       "      <td>H</td>\n",
       "      <td>Evans</td>\n",
       "      <td>CO</td>\n",
       "      <td>False</td>\n",
       "      <td>attack</td>\n",
       "      <td>Not fleeing</td>\n",
       "      <td>False</td>\n",
       "    </tr>\n",
       "  </tbody>\n",
       "</table>\n",
       "</div>"
      ],
      "text/plain": [
       "   id                name        date   manner_of_death       armed   age  \\\n",
       "0   3          Tim Elliot  2015-01-02              shot         gun  53.0   \n",
       "1   4    Lewis Lee Lembke  2015-01-02              shot         gun  47.0   \n",
       "2   5  John Paul Quintero  2015-01-03  shot and Tasered     unarmed  23.0   \n",
       "3   8     Matthew Hoffman  2015-01-04              shot  toy weapon  32.0   \n",
       "4   9   Michael Rodriguez  2015-01-04              shot    nail gun  39.0   \n",
       "\n",
       "  gender race           city state  signs_of_mental_illness threat_level  \\\n",
       "0      M    A        Shelton    WA                     True       attack   \n",
       "1      M    W          Aloha    OR                    False       attack   \n",
       "2      M    H        Wichita    KS                    False        other   \n",
       "3      M    W  San Francisco    CA                     True       attack   \n",
       "4      M    H          Evans    CO                    False       attack   \n",
       "\n",
       "          flee  body_camera  \n",
       "0  Not fleeing        False  \n",
       "1  Not fleeing        False  \n",
       "2  Not fleeing        False  \n",
       "3  Not fleeing        False  \n",
       "4  Not fleeing        False  "
      ]
     },
     "execution_count": 3,
     "metadata": {},
     "output_type": "execute_result"
    }
   ],
   "source": [
    "# Checking the head of the dataset\n",
    "df.head()"
   ]
  },
  {
   "cell_type": "code",
   "execution_count": 4,
   "id": "37de7dd0",
   "metadata": {},
   "outputs": [
    {
     "name": "stdout",
     "output_type": "stream",
     "text": [
      "<class 'pandas.core.frame.DataFrame'>\n",
      "RangeIndex: 5338 entries, 0 to 5337\n",
      "Data columns (total 14 columns):\n",
      " #   Column                   Non-Null Count  Dtype  \n",
      "---  ------                   --------------  -----  \n",
      " 0   id                       5338 non-null   int64  \n",
      " 1   name                     5338 non-null   object \n",
      " 2   date                     5338 non-null   object \n",
      " 3   manner_of_death          5338 non-null   object \n",
      " 4   armed                    5098 non-null   object \n",
      " 5   age                      5089 non-null   float64\n",
      " 6   gender                   5336 non-null   object \n",
      " 7   race                     4731 non-null   object \n",
      " 8   city                     5338 non-null   object \n",
      " 9   state                    5338 non-null   object \n",
      " 10  signs_of_mental_illness  5338 non-null   bool   \n",
      " 11  threat_level             5338 non-null   object \n",
      " 12  flee                     5088 non-null   object \n",
      " 13  body_camera              5338 non-null   bool   \n",
      "dtypes: bool(2), float64(1), int64(1), object(10)\n",
      "memory usage: 511.0+ KB\n"
     ]
    }
   ],
   "source": [
    "df.info()"
   ]
  },
  {
   "cell_type": "markdown",
   "id": "8ae82d1a",
   "metadata": {},
   "source": [
    "# Data Cleansing"
   ]
  },
  {
   "cell_type": "code",
   "execution_count": 5,
   "id": "6b5e65b2",
   "metadata": {},
   "outputs": [
    {
     "data": {
      "text/plain": [
       "id                         False\n",
       "name                       False\n",
       "date                       False\n",
       "manner_of_death            False\n",
       "armed                       True\n",
       "age                         True\n",
       "gender                      True\n",
       "race                        True\n",
       "city                       False\n",
       "state                      False\n",
       "signs_of_mental_illness    False\n",
       "threat_level               False\n",
       "flee                        True\n",
       "body_camera                False\n",
       "dtype: bool"
      ]
     },
     "execution_count": 5,
     "metadata": {},
     "output_type": "execute_result"
    }
   ],
   "source": [
    "# Checking null values in every column\n",
    "df.isnull().any()"
   ]
  },
  {
   "cell_type": "code",
   "execution_count": 6,
   "id": "c10855cf",
   "metadata": {},
   "outputs": [],
   "source": [
    "# Fill null values with Unspecified except the age column (I will explain it later)\n",
    "df[['armed', 'gender', 'race', 'flee']] = df[['armed', 'gender', 'race', 'flee']].fillna(value='Unspecified')"
   ]
  },
  {
   "cell_type": "code",
   "execution_count": 7,
   "id": "da021efb",
   "metadata": {},
   "outputs": [
    {
     "data": {
      "text/plain": [
       "id                         False\n",
       "name                       False\n",
       "date                       False\n",
       "manner_of_death            False\n",
       "armed                      False\n",
       "age                         True\n",
       "gender                     False\n",
       "race                       False\n",
       "city                       False\n",
       "state                      False\n",
       "signs_of_mental_illness    False\n",
       "threat_level               False\n",
       "flee                       False\n",
       "body_camera                False\n",
       "dtype: bool"
      ]
     },
     "execution_count": 7,
     "metadata": {},
     "output_type": "execute_result"
    }
   ],
   "source": [
    "df.isnull().any()"
   ]
  },
  {
   "cell_type": "code",
   "execution_count": 8,
   "id": "d417faee",
   "metadata": {},
   "outputs": [
    {
     "name": "stdout",
     "output_type": "stream",
     "text": [
      "<class 'pandas.core.frame.DataFrame'>\n",
      "RangeIndex: 5338 entries, 0 to 5337\n",
      "Data columns (total 14 columns):\n",
      " #   Column                   Non-Null Count  Dtype  \n",
      "---  ------                   --------------  -----  \n",
      " 0   id                       5338 non-null   int64  \n",
      " 1   name                     5338 non-null   object \n",
      " 2   date                     5338 non-null   object \n",
      " 3   manner_of_death          5338 non-null   object \n",
      " 4   armed                    5338 non-null   object \n",
      " 5   age                      5089 non-null   float64\n",
      " 6   gender                   5338 non-null   object \n",
      " 7   race                     5338 non-null   object \n",
      " 8   city                     5338 non-null   object \n",
      " 9   state                    5338 non-null   object \n",
      " 10  signs_of_mental_illness  5338 non-null   bool   \n",
      " 11  threat_level             5338 non-null   object \n",
      " 12  flee                     5338 non-null   object \n",
      " 13  body_camera              5338 non-null   bool   \n",
      "dtypes: bool(2), float64(1), int64(1), object(10)\n",
      "memory usage: 511.0+ KB\n"
     ]
    }
   ],
   "source": [
    "df.info()"
   ]
  },
  {
   "cell_type": "markdown",
   "id": "34ce1766",
   "metadata": {},
   "source": [
    "# Feature Engineering"
   ]
  },
  {
   "cell_type": "markdown",
   "id": "854683c3",
   "metadata": {},
   "source": [
    "Race characterisation"
   ]
  },
  {
   "cell_type": "code",
   "execution_count": 9,
   "id": "3ed770a1",
   "metadata": {},
   "outputs": [],
   "source": [
    "def race(data):\n",
    "    if data == 'W':\n",
    "        return 'White'\n",
    "    elif data == 'B':\n",
    "        return 'Black'\n",
    "    elif data == 'H':\n",
    "        return 'Hispanic'\n",
    "    elif data == 'A':\n",
    "        return 'Asian'\n",
    "    elif data == 'N':\n",
    "        return 'Native'\n",
    "    elif data == 'O':\n",
    "        return 'Other'\n",
    "    return 'Unspecified'"
   ]
  },
  {
   "cell_type": "code",
   "execution_count": 10,
   "id": "1c558b50",
   "metadata": {},
   "outputs": [],
   "source": [
    "df['race'] = df['race'].apply(race)"
   ]
  },
  {
   "cell_type": "markdown",
   "id": "b570e3d6",
   "metadata": {},
   "source": [
    "Gender characterisation"
   ]
  },
  {
   "cell_type": "code",
   "execution_count": 11,
   "id": "f5b03bf3",
   "metadata": {},
   "outputs": [],
   "source": [
    "def gender(data):\n",
    "    if data == 'M':\n",
    "        return 'Male'\n",
    "    elif data == 'F':\n",
    "        return 'Female'\n",
    "    return 'Unspecified'"
   ]
  },
  {
   "cell_type": "code",
   "execution_count": 12,
   "id": "d0aac81f",
   "metadata": {},
   "outputs": [],
   "source": [
    "df['gender'] = df['gender'].apply(gender)"
   ]
  },
  {
   "cell_type": "markdown",
   "id": "a4fb9e91",
   "metadata": {},
   "source": [
    "Splitting the month and year in the date column values then create new columns for the splitted values"
   ]
  },
  {
   "cell_type": "code",
   "execution_count": 13,
   "id": "829919fd",
   "metadata": {},
   "outputs": [],
   "source": [
    "month_map = {1:'Jan',2:'Feb',3:'Mar',4:'Apr',5:'May',6:'Jun',7:'Jul',8:'Aug',9:'Sep',10:'Oct',11:'Nov',12:'Dec'}"
   ]
  },
  {
   "cell_type": "code",
   "execution_count": 14,
   "id": "d20003fb",
   "metadata": {},
   "outputs": [],
   "source": [
    "time = pd.to_datetime(df['date'])"
   ]
  },
  {
   "cell_type": "code",
   "execution_count": 15,
   "id": "ad58b3e1",
   "metadata": {},
   "outputs": [],
   "source": [
    "df['month'] = time.apply(lambda m: m.month).map(month_map)\n",
    "df['year'] = time.apply(lambda y: y.year)"
   ]
  },
  {
   "cell_type": "markdown",
   "id": "8eb36cb4",
   "metadata": {},
   "source": [
    "Age grouping"
   ]
  },
  {
   "cell_type": "code",
   "execution_count": 16,
   "id": "eb4579f1",
   "metadata": {},
   "outputs": [],
   "source": [
    "# This is why I didn't used the age column for my analysis. I used it just for grouping the age into generation\n",
    "def group_age(data):\n",
    "    if data <= 9:\n",
    "        return 'Gen A / Alpha (9 and below)'\n",
    "    elif data > 9 and data <= 24:\n",
    "        return 'Gen Z / Zoomers (10-24)'\n",
    "    elif data > 24 and data <= 40:\n",
    "        return 'Gen Y / Millenials (25-40)'\n",
    "    elif data > 40 and data <= 56:\n",
    "        return 'Gen X (40-56)'\n",
    "    elif data > 56:\n",
    "        return 'Baby Boomers (57 and above)'\n",
    "    return 'Unspecified'"
   ]
  },
  {
   "cell_type": "code",
   "execution_count": 17,
   "id": "8214d120",
   "metadata": {},
   "outputs": [],
   "source": [
    "df['generation'] = df['age'].apply(group_age)"
   ]
  },
  {
   "cell_type": "markdown",
   "id": "5b299bcb",
   "metadata": {},
   "source": [
    "State Grouping"
   ]
  },
  {
   "cell_type": "code",
   "execution_count": 18,
   "id": "09485cdb",
   "metadata": {},
   "outputs": [],
   "source": [
    "# Creating the state's name for mapping\n",
    "state = {'AK': 'Alaska',\n",
    "        'AL': 'Alabama',\n",
    "        'AR': 'Arkansas',\n",
    "        'AZ': 'Arizona',\n",
    "        'CA': 'California',\n",
    "        'CO': 'Colorado',\n",
    "        'CT': 'Connecticut',\n",
    "        'DC': 'District of Columbia',\n",
    "        'DE': 'Delaware',\n",
    "        'FL': 'Florida',\n",
    "        'GA': 'Georgia',\n",
    "        'HI': 'Hawaii',\n",
    "        'IA': 'Iowa',\n",
    "        'IL': 'Illinois',\n",
    "        'IN': 'Indiana',\n",
    "        'ID': 'Idaho',\n",
    "        'KS': 'Kansas',\n",
    "        'KY': 'Kentucky',\n",
    "        'LA': 'Louisiana',\n",
    "        'MA': 'Massachusetts',\n",
    "        'MD': 'Maryland',\n",
    "        'ME': 'Maine',\n",
    "        'MI': 'Michigan',\n",
    "        'MN': 'Minnesota',\n",
    "        'MO': 'Missouri',\n",
    "        'MS': 'Mississippi',\n",
    "        'MT': 'Montana',\n",
    "        'NH': 'New Hampshire',\n",
    "        'NC': 'North Carolina',\n",
    "        'ND': 'North Dakota',\n",
    "        'NE': 'Nebraska',\n",
    "        'NJ': 'New Jersey',\n",
    "        'NM': 'New Mexico',\n",
    "        'NV': 'Nevada',\n",
    "        'NY': 'New York',\n",
    "        'OH': 'Ohio',\n",
    "        'OK': 'Oklahoma',\n",
    "        'OR': 'Oregon',\n",
    "        'PA': 'Pennsylvania',\n",
    "        'RI': 'Rhode Island',\n",
    "        'SC': 'South Carolina',\n",
    "        'SD': 'South Dakota',\n",
    "        'TN': 'Tennessee',\n",
    "        'TX': 'Texas',\n",
    "        'UT': 'Utah',\n",
    "        'VT': 'Vermont',\n",
    "        'VA': 'Virginia',\n",
    "        'WA': 'Washington',\n",
    "        'WI': 'Wisconsin',\n",
    "        'WV': 'West Virginia',\n",
    "        'WY': 'Wyoming'}"
   ]
  },
  {
   "cell_type": "code",
   "execution_count": 19,
   "id": "b517e687",
   "metadata": {},
   "outputs": [],
   "source": [
    "# Renaming the column 'state' to 'code'\n",
    "df.rename(columns={'state':'code'}, inplace=True)"
   ]
  },
  {
   "cell_type": "code",
   "execution_count": 20,
   "id": "0caf30dd",
   "metadata": {},
   "outputs": [],
   "source": [
    "# Mapping the state code into state name and put it in the new 'state' column\n",
    "df['state'] = df['code'].map(state)"
   ]
  },
  {
   "cell_type": "markdown",
   "id": "ac42a307",
   "metadata": {},
   "source": [
    "Checking the head of the dataset after feature engineering"
   ]
  },
  {
   "cell_type": "code",
   "execution_count": 21,
   "id": "8402d58e",
   "metadata": {
    "scrolled": true
   },
   "outputs": [
    {
     "data": {
      "text/html": [
       "<div>\n",
       "<style scoped>\n",
       "    .dataframe tbody tr th:only-of-type {\n",
       "        vertical-align: middle;\n",
       "    }\n",
       "\n",
       "    .dataframe tbody tr th {\n",
       "        vertical-align: top;\n",
       "    }\n",
       "\n",
       "    .dataframe thead th {\n",
       "        text-align: right;\n",
       "    }\n",
       "</style>\n",
       "<table border=\"1\" class=\"dataframe\">\n",
       "  <thead>\n",
       "    <tr style=\"text-align: right;\">\n",
       "      <th></th>\n",
       "      <th>id</th>\n",
       "      <th>name</th>\n",
       "      <th>date</th>\n",
       "      <th>manner_of_death</th>\n",
       "      <th>armed</th>\n",
       "      <th>age</th>\n",
       "      <th>gender</th>\n",
       "      <th>race</th>\n",
       "      <th>city</th>\n",
       "      <th>code</th>\n",
       "      <th>signs_of_mental_illness</th>\n",
       "      <th>threat_level</th>\n",
       "      <th>flee</th>\n",
       "      <th>body_camera</th>\n",
       "      <th>month</th>\n",
       "      <th>year</th>\n",
       "      <th>generation</th>\n",
       "      <th>state</th>\n",
       "    </tr>\n",
       "  </thead>\n",
       "  <tbody>\n",
       "    <tr>\n",
       "      <th>0</th>\n",
       "      <td>3</td>\n",
       "      <td>Tim Elliot</td>\n",
       "      <td>2015-01-02</td>\n",
       "      <td>shot</td>\n",
       "      <td>gun</td>\n",
       "      <td>53.0</td>\n",
       "      <td>Male</td>\n",
       "      <td>Asian</td>\n",
       "      <td>Shelton</td>\n",
       "      <td>WA</td>\n",
       "      <td>True</td>\n",
       "      <td>attack</td>\n",
       "      <td>Not fleeing</td>\n",
       "      <td>False</td>\n",
       "      <td>Jan</td>\n",
       "      <td>2015</td>\n",
       "      <td>Gen X (40-56)</td>\n",
       "      <td>Washington</td>\n",
       "    </tr>\n",
       "    <tr>\n",
       "      <th>1</th>\n",
       "      <td>4</td>\n",
       "      <td>Lewis Lee Lembke</td>\n",
       "      <td>2015-01-02</td>\n",
       "      <td>shot</td>\n",
       "      <td>gun</td>\n",
       "      <td>47.0</td>\n",
       "      <td>Male</td>\n",
       "      <td>White</td>\n",
       "      <td>Aloha</td>\n",
       "      <td>OR</td>\n",
       "      <td>False</td>\n",
       "      <td>attack</td>\n",
       "      <td>Not fleeing</td>\n",
       "      <td>False</td>\n",
       "      <td>Jan</td>\n",
       "      <td>2015</td>\n",
       "      <td>Gen X (40-56)</td>\n",
       "      <td>Oregon</td>\n",
       "    </tr>\n",
       "    <tr>\n",
       "      <th>2</th>\n",
       "      <td>5</td>\n",
       "      <td>John Paul Quintero</td>\n",
       "      <td>2015-01-03</td>\n",
       "      <td>shot and Tasered</td>\n",
       "      <td>unarmed</td>\n",
       "      <td>23.0</td>\n",
       "      <td>Male</td>\n",
       "      <td>Hispanic</td>\n",
       "      <td>Wichita</td>\n",
       "      <td>KS</td>\n",
       "      <td>False</td>\n",
       "      <td>other</td>\n",
       "      <td>Not fleeing</td>\n",
       "      <td>False</td>\n",
       "      <td>Jan</td>\n",
       "      <td>2015</td>\n",
       "      <td>Gen Z / Zoomers (10-24)</td>\n",
       "      <td>Kansas</td>\n",
       "    </tr>\n",
       "    <tr>\n",
       "      <th>3</th>\n",
       "      <td>8</td>\n",
       "      <td>Matthew Hoffman</td>\n",
       "      <td>2015-01-04</td>\n",
       "      <td>shot</td>\n",
       "      <td>toy weapon</td>\n",
       "      <td>32.0</td>\n",
       "      <td>Male</td>\n",
       "      <td>White</td>\n",
       "      <td>San Francisco</td>\n",
       "      <td>CA</td>\n",
       "      <td>True</td>\n",
       "      <td>attack</td>\n",
       "      <td>Not fleeing</td>\n",
       "      <td>False</td>\n",
       "      <td>Jan</td>\n",
       "      <td>2015</td>\n",
       "      <td>Gen Y / Millenials (25-40)</td>\n",
       "      <td>California</td>\n",
       "    </tr>\n",
       "    <tr>\n",
       "      <th>4</th>\n",
       "      <td>9</td>\n",
       "      <td>Michael Rodriguez</td>\n",
       "      <td>2015-01-04</td>\n",
       "      <td>shot</td>\n",
       "      <td>nail gun</td>\n",
       "      <td>39.0</td>\n",
       "      <td>Male</td>\n",
       "      <td>Hispanic</td>\n",
       "      <td>Evans</td>\n",
       "      <td>CO</td>\n",
       "      <td>False</td>\n",
       "      <td>attack</td>\n",
       "      <td>Not fleeing</td>\n",
       "      <td>False</td>\n",
       "      <td>Jan</td>\n",
       "      <td>2015</td>\n",
       "      <td>Gen Y / Millenials (25-40)</td>\n",
       "      <td>Colorado</td>\n",
       "    </tr>\n",
       "  </tbody>\n",
       "</table>\n",
       "</div>"
      ],
      "text/plain": [
       "   id                name        date   manner_of_death       armed   age  \\\n",
       "0   3          Tim Elliot  2015-01-02              shot         gun  53.0   \n",
       "1   4    Lewis Lee Lembke  2015-01-02              shot         gun  47.0   \n",
       "2   5  John Paul Quintero  2015-01-03  shot and Tasered     unarmed  23.0   \n",
       "3   8     Matthew Hoffman  2015-01-04              shot  toy weapon  32.0   \n",
       "4   9   Michael Rodriguez  2015-01-04              shot    nail gun  39.0   \n",
       "\n",
       "  gender      race           city code  signs_of_mental_illness threat_level  \\\n",
       "0   Male     Asian        Shelton   WA                     True       attack   \n",
       "1   Male     White          Aloha   OR                    False       attack   \n",
       "2   Male  Hispanic        Wichita   KS                    False        other   \n",
       "3   Male     White  San Francisco   CA                     True       attack   \n",
       "4   Male  Hispanic          Evans   CO                    False       attack   \n",
       "\n",
       "          flee  body_camera month  year                  generation  \\\n",
       "0  Not fleeing        False   Jan  2015               Gen X (40-56)   \n",
       "1  Not fleeing        False   Jan  2015               Gen X (40-56)   \n",
       "2  Not fleeing        False   Jan  2015     Gen Z / Zoomers (10-24)   \n",
       "3  Not fleeing        False   Jan  2015  Gen Y / Millenials (25-40)   \n",
       "4  Not fleeing        False   Jan  2015  Gen Y / Millenials (25-40)   \n",
       "\n",
       "        state  \n",
       "0  Washington  \n",
       "1      Oregon  \n",
       "2      Kansas  \n",
       "3  California  \n",
       "4    Colorado  "
      ]
     },
     "execution_count": 21,
     "metadata": {},
     "output_type": "execute_result"
    }
   ],
   "source": [
    "df.head()"
   ]
  },
  {
   "cell_type": "markdown",
   "id": "b0bb8d81",
   "metadata": {},
   "source": [
    "# Exploratory Data Analysis"
   ]
  },
  {
   "cell_type": "markdown",
   "id": "5308da1f",
   "metadata": {},
   "source": [
    "Top 10 Fatal Police Shootings by state"
   ]
  },
  {
   "cell_type": "code",
   "execution_count": 22,
   "id": "df621034",
   "metadata": {},
   "outputs": [
    {
     "data": {
      "text/plain": [
       "Text(0.5, 1.0, 'Top 10 US Fatal Police Shootings by State')"
      ]
     },
     "execution_count": 22,
     "metadata": {},
     "output_type": "execute_result"
    },
    {
     "data": {
      "image/png": "[encoded data removed]",
      "text/plain": [
       "<Figure size 1080x360 with 1 Axes>"
      ]
     },
     "metadata": {
      "needs_background": "light"
     },
     "output_type": "display_data"
    }
   ],
   "source": [
    "top_states = df['state'].value_counts().head(10)\n",
    "plt.figure(figsize=(15,5))\n",
    "sns.barplot(x=top_states.index, y=top_states)\n",
    "plt.title('Top 10 US Fatal Police Shootings by State')"
   ]
  },
  {
   "cell_type": "markdown",
   "id": "b51c10ef",
   "metadata": {},
   "source": [
    "Top 10 Fatal Police Shootings by city"
   ]
  },
  {
   "cell_type": "code",
   "execution_count": 23,
   "id": "246a1d62",
   "metadata": {},
   "outputs": [
    {
     "data": {
      "text/plain": [
       "Text(0.5, 1.0, 'Top 10 US Fatal Police Shootings by City')"
      ]
     },
     "execution_count": 23,
     "metadata": {},
     "output_type": "execute_result"
    },
    {
     "data": {
      "image/png": "[encoded data removed]",
      "text/plain": [
       "<Figure size 1080x360 with 1 Axes>"
      ]
     },
     "metadata": {
      "needs_background": "light"
     },
     "output_type": "display_data"
    }
   ],
   "source": [
    "top_cities = df['city'].value_counts().head(10)\n",
    "plt.figure(figsize=(15,5))\n",
    "sns.barplot(x=top_cities.index, y=top_cities)\n",
    "plt.title('Top 10 US Fatal Police Shootings by City')"
   ]
  },
  {
   "cell_type": "markdown",
   "id": "7ea4a53f",
   "metadata": {},
   "source": [
    "Top 10 Fatal Police Shootings by Item"
   ]
  },
  {
   "cell_type": "code",
   "execution_count": 24,
   "id": "1e9be6be",
   "metadata": {},
   "outputs": [
    {
     "data": {
      "text/plain": [
       "Text(0.5, 1.0, 'Top 10 US Fatal Police Shootings by Item')"
      ]
     },
     "execution_count": 24,
     "metadata": {},
     "output_type": "execute_result"
    },
    {
     "data": {
      "image/png": "[encoded data removed]",
      "text/plain": [
       "<Figure size 1080x360 with 1 Axes>"
      ]
     },
     "metadata": {
      "needs_background": "light"
     },
     "output_type": "display_data"
    }
   ],
   "source": [
    "top_items = df['armed'].value_counts().head(10)\n",
    "plt.figure(figsize=(15,5))\n",
    "sns.barplot(x=top_items.index, y=top_items)\n",
    "plt.title('Top 10 US Fatal Police Shootings by Item')"
   ]
  },
  {
   "cell_type": "markdown",
   "id": "cd47ea92",
   "metadata": {},
   "source": [
    "Fatal Police Shootings by Gender"
   ]
  },
  {
   "cell_type": "code",
   "execution_count": 25,
   "id": "9465d4da",
   "metadata": {},
   "outputs": [
    {
     "data": {
      "text/plain": [
       "Text(0.5, 1.0, 'US Fatal Police Shootings by Gender')"
      ]
     },
     "execution_count": 25,
     "metadata": {},
     "output_type": "execute_result"
    },
    {
     "data": {
      "image/png": "[encoded data removed]",
      "text/plain": [
       "<Figure size 720x360 with 1 Axes>"
      ]
     },
     "metadata": {},
     "output_type": "display_data"
    }
   ],
   "source": [
    "colors = sns.color_palette('pastel')[0:5]\n",
    "gender_count = df['gender'].value_counts()\n",
    "plt.figure(figsize=(10,5))\n",
    "plt.pie(gender_count, labels = gender_count.index, colors = colors, autopct='%1.2f%%')\n",
    "plt.title('US Fatal Police Shootings by Gender')"
   ]
  },
  {
   "cell_type": "markdown",
   "id": "92dc8216",
   "metadata": {},
   "source": [
    "Fatal Police Shootings by Race"
   ]
  },
  {
   "cell_type": "code",
   "execution_count": 26,
   "id": "be8e4a75",
   "metadata": {},
   "outputs": [
    {
     "data": {
      "text/plain": [
       "Text(0.5, 1.0, 'US Fatal Police Shootings by Race')"
      ]
     },
     "execution_count": 26,
     "metadata": {},
     "output_type": "execute_result"
    },
    {
     "data": {
      "image/png": "[encoded data removed]",
      "text/plain": [
       "<Figure size 720x360 with 1 Axes>"
      ]
     },
     "metadata": {},
     "output_type": "display_data"
    }
   ],
   "source": [
    "colors = sns.color_palette('pastel')[0:5]\n",
    "race = df['race'].value_counts()\n",
    "plt.figure(figsize=(10,5))\n",
    "plt.pie(race, labels = race.index, colors = colors, autopct='%.0f%%')\n",
    "plt.title('US Fatal Police Shootings by Race')"
   ]
  },
  {
   "cell_type": "markdown",
   "id": "d522eb91",
   "metadata": {},
   "source": [
    "Fatal Police Shootings by Manner of death"
   ]
  },
  {
   "cell_type": "code",
   "execution_count": 27,
   "id": "ee98e9e8",
   "metadata": {},
   "outputs": [
    {
     "data": {
      "text/plain": [
       "Text(0.5, 1.0, 'US Fatal Police Shootings by Manner of death')"
      ]
     },
     "execution_count": 27,
     "metadata": {},
     "output_type": "execute_result"
    },
    {
     "data": {
      "image/png": "[encoded data removed]",
      "text/plain": [
       "<Figure size 432x288 with 1 Axes>"
      ]
     },
     "metadata": {
      "needs_background": "light"
     },
     "output_type": "display_data"
    }
   ],
   "source": [
    "sns.countplot(x='manner_of_death',data=df)\n",
    "plt.title('US Fatal Police Shootings by Manner of death')"
   ]
  },
  {
   "cell_type": "markdown",
   "id": "f4735997",
   "metadata": {},
   "source": [
    "Fatal Police Shootings by Mental Illness"
   ]
  },
  {
   "cell_type": "code",
   "execution_count": 28,
   "id": "cdddb65f",
   "metadata": {},
   "outputs": [
    {
     "data": {
      "text/plain": [
       "Text(0.5, 1.0, 'US Fatal Police Shootings by Mental Illness')"
      ]
     },
     "execution_count": 28,
     "metadata": {},
     "output_type": "execute_result"
    },
    {
     "data": {
      "image/png": "[encoded data removed]",
      "text/plain": [
       "<Figure size 432x288 with 1 Axes>"
      ]
     },
     "metadata": {
      "needs_background": "light"
     },
     "output_type": "display_data"
    }
   ],
   "source": [
    "sns.countplot(x='signs_of_mental_illness',data=df)\n",
    "plt.title('US Fatal Police Shootings by Mental Illness')"
   ]
  },
  {
   "cell_type": "markdown",
   "id": "9be997d7",
   "metadata": {},
   "source": [
    "Fatal Police Shootings by Threat Level"
   ]
  },
  {
   "cell_type": "code",
   "execution_count": 29,
   "id": "4e20d955",
   "metadata": {},
   "outputs": [
    {
     "data": {
      "text/plain": [
       "Text(0.5, 1.0, 'US Fatal Police Shootings by Threat Level')"
      ]
     },
     "execution_count": 29,
     "metadata": {},
     "output_type": "execute_result"
    },
    {
     "data": {
      "image/png": "[encoded data removed]",
      "text/plain": [
       "<Figure size 720x360 with 1 Axes>"
      ]
     },
     "metadata": {},
     "output_type": "display_data"
    }
   ],
   "source": [
    "threat_level = df['threat_level'].value_counts()\n",
    "plt.figure(figsize=(10,5))\n",
    "plt.pie(threat_level, labels = threat_level.index, colors = colors, autopct='%.0f%%')\n",
    "plt.title('US Fatal Police Shootings by Threat Level')"
   ]
  },
  {
   "cell_type": "markdown",
   "id": "41272be1",
   "metadata": {},
   "source": [
    "Fatal Police Shootings by Flee"
   ]
  },
  {
   "cell_type": "code",
   "execution_count": 30,
   "id": "0a3256bd",
   "metadata": {},
   "outputs": [
    {
     "data": {
      "text/plain": [
       "Text(0.5, 1.0, 'US Fatal Police Shootings by Flee')"
      ]
     },
     "execution_count": 30,
     "metadata": {},
     "output_type": "execute_result"
    },
    {
     "data": {
      "image/png": "[encoded data removed]",
      "text/plain": [
       "<Figure size 720x360 with 1 Axes>"
      ]
     },
     "metadata": {},
     "output_type": "display_data"
    }
   ],
   "source": [
    "flee = df['flee'].value_counts()\n",
    "plt.figure(figsize=(10,5))\n",
    "plt.pie(flee, labels = flee.index, colors = colors, autopct='%.0f%%')\n",
    "plt.title('US Fatal Police Shootings by Flee')"
   ]
  },
  {
   "cell_type": "markdown",
   "id": "bdd63332",
   "metadata": {},
   "source": [
    "Fatal Police Shootings by Body Camera"
   ]
  },
  {
   "cell_type": "code",
   "execution_count": 31,
   "id": "aff43cab",
   "metadata": {},
   "outputs": [
    {
     "data": {
      "text/plain": [
       "Text(0.5, 1.0, 'US Fatal Police Shootings by Body Camera')"
      ]
     },
     "execution_count": 31,
     "metadata": {},
     "output_type": "execute_result"
    },
    {
     "data": {
      "image/png": "[encoded data removed]",
      "text/plain": [
       "<Figure size 432x288 with 1 Axes>"
      ]
     },
     "metadata": {
      "needs_background": "light"
     },
     "output_type": "display_data"
    }
   ],
   "source": [
    "sns.countplot(x='body_camera',data=df)\n",
    "plt.title('US Fatal Police Shootings by Body Camera')"
   ]
  },
  {
   "cell_type": "markdown",
   "id": "68db414a",
   "metadata": {},
   "source": [
    "Age Distribution"
   ]
  },
  {
   "cell_type": "code",
   "execution_count": 32,
   "id": "42ff8d9e",
   "metadata": {},
   "outputs": [
    {
     "data": {
      "text/plain": [
       "Text(0.5, 1.0, 'US Fatal Police Age Distribution')"
      ]
     },
     "execution_count": 32,
     "metadata": {},
     "output_type": "execute_result"
    },
    {
     "data": {
      "image/png": "[encoded data removed]",
      "text/plain": [
       "<Figure size 360x360 with 1 Axes>"
      ]
     },
     "metadata": {
      "needs_background": "light"
     },
     "output_type": "display_data"
    }
   ],
   "source": [
    "sns.displot(x='age', data=df)\n",
    "plt.title('US Fatal Police Age Distribution')"
   ]
  },
  {
   "cell_type": "markdown",
   "id": "69c6e8fb",
   "metadata": {},
   "source": [
    "Fatal Police Shootings by Generation"
   ]
  },
  {
   "cell_type": "code",
   "execution_count": 33,
   "id": "b427db01",
   "metadata": {},
   "outputs": [
    {
     "data": {
      "text/plain": [
       "Text(0.5, 1.0, 'US Fatal Police Shootings by Generation')"
      ]
     },
     "execution_count": 33,
     "metadata": {},
     "output_type": "execute_result"
    },
    {
     "data": {
      "image/png": "[encoded data removed]",
      "text/plain": [
       "<Figure size 720x360 with 1 Axes>"
      ]
     },
     "metadata": {},
     "output_type": "display_data"
    }
   ],
   "source": [
    "generation = df['generation'].value_counts()\n",
    "plt.figure(figsize=(10,5))\n",
    "plt.pie(generation, labels = generation.index, colors = colors, autopct='%1.2f%%')\n",
    "plt.title('US Fatal Police Shootings by Generation')"
   ]
  },
  {
   "cell_type": "markdown",
   "id": "36c88af1",
   "metadata": {},
   "source": [
    "Heatmap of Fatal Police Shootings in the US"
   ]
  },
  {
   "cell_type": "code",
   "execution_count": 34,
   "id": "664ec04b",
   "metadata": {},
   "outputs": [
    {
     "data": {
      "text/plain": [
       "Text(0.5, 1.0, 'Heatmap of Fatal Police Shootings in the US')"
      ]
     },
     "execution_count": 34,
     "metadata": {},
     "output_type": "execute_result"
    },
    {
     "data": {
      "image/png": "[encoded data removed]",
      "text/plain": [
       "<Figure size 720x360 with 2 Axes>"
      ]
     },
     "metadata": {
      "needs_background": "light"
     },
     "output_type": "display_data"
    }
   ],
   "source": [
    "count_case = df.groupby(['month','year'])['date'].count().unstack()\n",
    "plt.figure(figsize=(10,5))\n",
    "sns.heatmap(count_case, cmap='coolwarm')\n",
    "plt.title('Heatmap of Fatal Police Shootings in the US',loc='center',pad=30, fontsize=15)"
   ]
  },
  {
   "cell_type": "markdown",
   "id": "ae79952c",
   "metadata": {},
   "source": [
    "Export the the cleaned data into a csv file"
   ]
  },
  {
   "cell_type": "code",
   "execution_count": 35,
   "id": "42efea2d",
   "metadata": {},
   "outputs": [],
   "source": [
    "df.to_csv('Cleaned.csv')"
   ]
  },
  {
   "cell_type": "code",
   "execution_count": null,
   "id": "90c698ba",
   "metadata": {},
   "outputs": [],
   "source": []
  }
 ],
 "metadata": {
  "kernelspec": {
   "display_name": "Python 3",
   "language": "python",
   "name": "python3"
  },
  "language_info": {
   "codemirror_mode": {
    "name": "ipython",
    "version": 3
   },
   "file_extension": ".py",
   "mimetype": "text/x-python",
   "name": "python",
   "nbconvert_exporter": "python",
   "pygments_lexer": "ipython3",
   "version": "3.8.8"
  }
 },
 "nbformat": 4,
 "nbformat_minor": 5
}
